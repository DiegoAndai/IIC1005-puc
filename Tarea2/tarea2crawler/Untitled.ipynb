{
 "cells": [
  {
   "cell_type": "code",
   "execution_count": 74,
   "metadata": {
    "collapsed": true
   },
   "outputs": [],
   "source": [
    "import nltk\n",
    "import pydot_ng\n",
    "import graphviz\n",
    "import gensim\n",
    "import json\n",
    "import string\n",
    "import scipy\n",
    "import numpy\n",
    "import pandas\n",
    "import sklearn\n",
    "import plotly\n",
    "import statistics\n",
    "from operator import itemgetter\n",
    "import matplotlib.pyplot as plt\n",
    "from sklearn.tree import DecisionTreeClassifier\n",
    "from sklearn.naive_bayes import MultinomialNB"
   ]
  },
  {
   "cell_type": "code",
   "execution_count": 75,
   "metadata": {
    "collapsed": true
   },
   "outputs": [],
   "source": [
    "with open('emol.json') as data_file:\n",
    "    emoldctry=json.load(data_file)"
   ]
  },
  {
   "cell_type": "code",
   "execution_count": 76,
   "metadata": {
    "collapsed": false
   },
   "outputs": [],
   "source": [
    "nwspprs=[emoldctry]"
   ]
  },
  {
   "cell_type": "code",
   "execution_count": 77,
   "metadata": {
    "collapsed": false
   },
   "outputs": [],
   "source": [
    "contents=[]\n",
    "y=[]\n",
    "for newspaper in nwspprs:\n",
    "    for article in newspaper:\n",
    "        contents.append(article['content'])\n",
    "        if (newspaper==emoldctry):\n",
    "            y.append('emol')\n",
    "        elif (newspaper==lndctry):\n",
    "            y.append('la nación')\n",
    "        elif (newspaper==emdctry):\n",
    "            y.append('el mostrador')\n",
    "        elif (newspaper==ltdctry):\n",
    "            y.append('la tercera')\n",
    "y=numpy.asarray(y) "
   ]
  },
  {
   "cell_type": "code",
   "execution_count": 78,
   "metadata": {
    "collapsed": false
   },
   "outputs": [
    {
     "data": {
      "text/plain": [
       "'SANTIAGO.- Fue un partidazo. Novak Djokovic se impuso en dos batallados sets a Rafael Nadal y se inscribió en las semifinales del Masters de Roma.El serbio, número 1 del mundo, se impuso por 7-5 y 7-6(4) al 5 de la ATP en 2 horas y 25 minutos de juego en una lucha digna de haberse disputado en el Foro Itálico de la capital italiana.Puede que Nadal ya no esté en los tres primeros lugares del mundo, pero su nivel y espectacular juego en arcilla es admirable. No dio pelota por perdida y obligó a \"Nole\" a sacar lo mejor de su repertorio.Sólo basta con ver el notable punto con el que Djokovic ganó el primer set para darse cuenta de la exhibición que estos dos \"gladiadores\" dieron en Italia.La mayor solvencia en sus tiros y efectividad le permitieron al serbio a instalarse en la ronda de los cuatro mejores del certamen.Ahora espera por el rival del duelo entre el japonés Kei Nishikori y el austríaco Dominic Thiem.Mientras que la otra semifinal será la que animarán Andy Murray y el francés Lucas Poulle, quien se vio beneficiado con la no presentación del argentino Juan Mónaco.'"
      ]
     },
     "execution_count": 78,
     "metadata": {},
     "output_type": "execute_result"
    }
   ],
   "source": [
    "contents[46]"
   ]
  },
  {
   "cell_type": "code",
   "execution_count": 79,
   "metadata": {
    "collapsed": false
   },
   "outputs": [],
   "source": [
    "documentTokens=[]\n",
    "stopwords=nltk.corpus.stopwords.words('spanish')\n",
    "c=0\n",
    "for article in contents:\n",
    "    text=gensim.utils.decode_htmlentities(article)\n",
    "    tokens=gensim.utils.simple_preprocess(text)\n",
    "    tokens=[token for token in tokens if ((token not in stopwords) and (token not in HTMLSanitizerMixin.acceptable_elements))]\n",
    "    documentTokens.append(tokens)"
   ]
  },
  {
   "cell_type": "markdown",
   "metadata": {},
   "source": [
    "## Clasificación con regresión logística\n"
   ]
  },
  {
   "cell_type": "code",
   "execution_count": 82,
   "metadata": {
    "collapsed": true
   },
   "outputs": [],
   "source": [
    "Modelo=sklearn.linear_model.LogisticRegression()"
   ]
  },
  {
   "cell_type": "code",
   "execution_count": null,
   "metadata": {
    "collapsed": true
   },
   "outputs": [],
   "source": []
  },
  {
   "cell_type": "code",
   "execution_count": null,
   "metadata": {
    "collapsed": true
   },
   "outputs": [],
   "source": []
  }
 ],
 "metadata": {
  "kernelspec": {
   "display_name": "Python 3",
   "language": "python",
   "name": "python3"
  },
  "language_info": {
   "codemirror_mode": {
    "name": "ipython",
    "version": 3
   },
   "file_extension": ".py",
   "mimetype": "text/x-python",
   "name": "python",
   "nbconvert_exporter": "python",
   "pygments_lexer": "ipython3",
   "version": "3.4.4"
  }
 },
 "nbformat": 4,
 "nbformat_minor": 0
}
